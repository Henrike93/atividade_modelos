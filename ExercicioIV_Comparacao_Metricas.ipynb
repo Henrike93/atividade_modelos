{
 "cells": [
  {
   "cell_type": "markdown",
   "metadata": {
    "colab_type": "text",
    "id": "qGJhelAPu2uO"
   },
   "source": [
    "# Demo II / Exercício IV - Métricas para Avaliação de Modelos\n",
    "\n",
    "Base diabetes - \n",
    "\n",
    "Ref. https://scikit-learn.org/stable/modules/generated/sklearn.datasets.load_diabetes.html\n"
   ]
  },
  {
   "cell_type": "markdown",
   "metadata": {
    "colab_type": "text",
    "id": "E40i-GxmvTQA"
   },
   "source": [
    "Nossos imports serão o pandas, o datasets, nosso modelo linear e train_test_split do sckitlearn bem como o matplotlib:"
   ]
  },
  {
   "cell_type": "code",
   "execution_count": 1,
   "metadata": {
    "colab": {},
    "colab_type": "code",
    "id": "mkI2RiVEbWeJ"
   },
   "outputs": [],
   "source": [
    "import pandas as pd\n",
    "from sklearn import datasets, linear_model\n",
    "from sklearn.model_selection import train_test_split\n",
    "from matplotlib import pyplot as plt"
   ]
  },
  {
   "cell_type": "markdown",
   "metadata": {
    "colab_type": "text",
    "id": "27n7WAvWvvni"
   },
   "source": [
    "Vamos analisar rapidamente as bibliotecas que importamos:\n",
    "\n",
    "Pandas - para carregar o arquivo de dados como um dataframe do Pandas e analisar os dados;\n",
    "\n",
    "No Sklearn, importamos o módulo de conjuntos de dados (databases) para carregar uma base de amostra e o linear_model para executar uma regressão linear;\n",
    "\n",
    "No Sklearn, com a sub-biblioteca model_selection, importamos então train_test_split para que possamos dividir corretamente nossos dados em conjuntos de treinamento e teste;\n",
    "\n",
    "Do Matplotlib, importamos o pyplot para plotar gráficos dos dados."
   ]
  },
  {
   "cell_type": "code",
   "execution_count": 2,
   "metadata": {
    "colab": {},
    "colab_type": "code",
    "id": "ZR4AqD3qbYWZ"
   },
   "outputs": [],
   "source": [
    "# Carregando o dataset 'diabetes'\n",
    "\n",
    "# Declarando os nomes de nossas colunas\n",
    "columns = 'age sex bmi map tc ldl hdl tch ltg glu'.split()\n",
    "\n",
    "# Carregando o dataset 'diabetes'do sklearn\n",
    "diabetes = datasets.load_diabetes()\n",
    "\n",
    "# Carregando o dataset como um pandas dataframe\n",
    "df = pd.DataFrame(diabetes.data, columns=columns)\n",
    "\n",
    "#Definindo nossa variável 'alvo' (dependente) como y\n",
    "y = diabetes.target "
   ]
  },
  {
   "cell_type": "code",
   "execution_count": 3,
   "metadata": {
    "colab": {
     "base_uri": "https://localhost:8080/",
     "height": 52
    },
    "colab_type": "code",
    "id": "icbaDJW3bgMj",
    "outputId": "dd34bc52-5123-4d82-e012-20884f1def21"
   },
   "outputs": [
    {
     "name": "stdout",
     "output_type": "stream",
     "text": [
      "(353, 10) (353,)\n",
      "(89, 10) (89,)\n"
     ]
    }
   ],
   "source": [
    "# Criando nossos sets de treinamento e teste (Lembre-se, comumente será em uma proporçao de 70/30 ou 80/20)\n",
    "X_train, X_test, y_train, y_test = train_test_split(df, y, test_size=0.2)\n",
    "print(X_train.shape, y_train.shape)\n",
    "print(X_test.shape, y_test.shape)"
   ]
  },
  {
   "cell_type": "markdown",
   "metadata": {
    "colab_type": "text",
    "id": "Qb6OeiHQxLsJ"
   },
   "source": [
    "Agora, ajustaremos o modelo aos dados de treinamento (model fitting):"
   ]
  },
  {
   "cell_type": "code",
   "execution_count": 4,
   "metadata": {
    "colab": {},
    "colab_type": "code",
    "id": "RjJSF5NXblu2"
   },
   "outputs": [],
   "source": [
    "# Model fitting\n",
    "lm = linear_model.LinearRegression()\n",
    "model = lm.fit(X_train, y_train)\n",
    "predictions = lm.predict(X_test)"
   ]
  },
  {
   "cell_type": "markdown",
   "metadata": {
    "colab_type": "text",
    "id": "Zj2V4riiyo3y"
   },
   "source": [
    "Como você pode ver, estamos ajustando o modelo nos dados de treinamento e tentando prever os dados de teste. \n",
    "\n",
    "Vamos ver algumas das previsões:\n"
   ]
  },
  {
   "cell_type": "code",
   "execution_count": 5,
   "metadata": {
    "colab": {
     "base_uri": "https://localhost:8080/",
     "height": 52
    },
    "colab_type": "code",
    "id": "s3DkSFRkbp6d",
    "outputId": "f33cc19e-0fe6-42e7-a7b7-81991f6b3acf"
   },
   "outputs": [
    {
     "data": {
      "text/plain": [
       "array([106.35194468, 158.68545993,  76.75243456, 192.50223081,\n",
       "       140.80763458])"
      ]
     },
     "execution_count": 5,
     "metadata": {},
     "output_type": "execute_result"
    }
   ],
   "source": [
    "predictions[0:5]"
   ]
  },
  {
   "cell_type": "markdown",
   "metadata": {
    "colab_type": "text",
    "id": "h0mtNLRny3Qg"
   },
   "source": [
    "Obs: como usamos [0: 5] após as previsões, mostra-se então apenas os cinco primeiros valores previstos. \n",
    "\n",
    "Remover o [0: 5] faria com que fossem imprimidos todos os valores previstos que nosso modelo criou.\n",
    "\n",
    "Agora vamos plotar nosso modelo de regressão linear:"
   ]
  },
  {
   "cell_type": "code",
   "execution_count": 6,
   "metadata": {
    "colab": {
     "base_uri": "https://localhost:8080/",
     "height": 301
    },
    "colab_type": "code",
    "id": "iVUOAEu5bul0",
    "outputId": "80fc14e3-9d71-4db2-d882-5136ad203b5f"
   },
   "outputs": [
    {
     "data": {
      "text/plain": [
       "Text(0, 0.5, 'Predicoes')"
      ]
     },
     "execution_count": 6,
     "metadata": {},
     "output_type": "execute_result"
    },
    {
     "data": {
      "image/png": "[encoded data removed]",
      "text/plain": [
       "<Figure size 432x288 with 1 Axes>"
      ]
     },
     "metadata": {},
     "output_type": "display_data"
    }
   ],
   "source": [
    "## Modelo de regressao linear\n",
    "plt.scatter(y_test, predictions)\n",
    "plt.xlabel('Valores Verdadeiros')\n",
    "plt.ylabel('Predicoes')"
   ]
  },
  {
   "cell_type": "markdown",
   "metadata": {
    "colab_type": "text",
    "id": "gUKdi517zl55"
   },
   "source": [
    "Score de acurácia para nosso modelo:"
   ]
  },
  {
   "cell_type": "code",
   "execution_count": 7,
   "metadata": {
    "colab": {
     "base_uri": "https://localhost:8080/",
     "height": 35
    },
    "colab_type": "code",
    "id": "dVTdKdIRb3cL",
    "outputId": "c984f705-ffe0-4c23-dbf5-99895ef87435"
   },
   "outputs": [
    {
     "name": "stdout",
     "output_type": "stream",
     "text": [
      "Score: 0.3967051534074957\n"
     ]
    }
   ],
   "source": [
    "print('Score:', model.score(X_test, y_test))"
   ]
  },
  {
   "cell_type": "markdown",
   "metadata": {
    "colab_type": "text",
    "id": "Qhf4tnhWzwJp"
   },
   "source": [
    "## Exercício IV - Validação Cruzada, K-Pastas e Leave One Out"
   ]
  },
  {
   "cell_type": "markdown",
   "metadata": {
    "colab_type": "text",
    "id": "sUQb0Sz9z5U0"
   },
   "source": [
    "[Desafio 4] Como desafio, atentem para a utilização do mesmo exemplo mas dessa vez com a utilização de validação via validação cruzada via K-Pastas (K-Folds Cross Validation)  e, a posteriori, façam o mesmo exemplo dessa vez com validação via Método Leave One Out (como visto em aula).\n",
    "\n",
    "Referências:\n",
    "\n",
    "https://scikit-learn.org/stable/modules/generated/sklearn.model_selection.KFold.html\n",
    "\n",
    "https://scikit-learn.org/stable/modules/generated/sklearn.model_selection.LeaveOneOut.html"
   ]
  },
  {
   "cell_type": "code",
   "execution_count": 28,
   "metadata": {
    "colab": {},
    "colab_type": "code",
    "id": "wUY502_rcB7R"
   },
   "outputs": [],
   "source": [
    "# Imports necessários\n",
    "\n",
    "from sklearn.model_selection import cross_val_score, cross_val_predict\n",
    "from sklearn.model_selection import LeaveOneOut\n",
    "from sklearn import metrics"
   ]
  },
  {
   "cell_type": "code",
   "execution_count": 32,
   "metadata": {
    "colab": {
     "base_uri": "https://localhost:8080/",
     "height": 72
    },
    "colab_type": "code",
    "id": "rP7iujKvcOjY",
    "outputId": "2867831a-1005-4cbd-d5d2-0b7638b192f3"
   },
   "outputs": [
    {
     "name": "stdout",
     "output_type": "stream",
     "text": [
      "Scores com Validação Cruzada: [0.50283713 0.18991026 0.56539865 0.36996563 0.60047052 0.33262653\n",
      " 0.41404403 0.68712879]\n"
     ]
    }
   ],
   "source": [
    "# Fazendo nossa validação cruzada em 8 k-pastas\n",
    "\n",
    "scores = cross_val_score(model, df, y, cv=8)\n",
    "print('Scores com Validação Cruzada:', scores)"
   ]
  },
  {
   "cell_type": "code",
   "execution_count": 31,
   "metadata": {},
   "outputs": [
    {
     "name": "stdout",
     "output_type": "stream",
     "text": [
      "Scores com Validação Cruzada LeaveOneOut: 0.0\n"
     ]
    }
   ],
   "source": [
    "loocv = LeaveOneOut()\n",
    "scores = cross_val_score(model, df, y, cv=loocv)\n",
    "print('Scores com Validação Cruzada LeaveOneOut:', scores.mean()*100.0)"
   ]
  },
  {
   "cell_type": "code",
   "execution_count": 10,
   "metadata": {
    "colab": {
     "base_uri": "https://localhost:8080/",
     "height": 287
    },
    "colab_type": "code",
    "id": "ria6Q_0DcjHV",
    "outputId": "c65b90a0-caef-4fc5-f8b2-486cb00e2c28"
   },
   "outputs": [
    {
     "data": {
      "text/plain": [
       "<matplotlib.collections.PathCollection at 0x7f157d6ed4e0>"
      ]
     },
     "execution_count": 10,
     "metadata": {},
     "output_type": "execute_result"
    },
    {
     "data": {
      "image/png": "[encoded data removed]",
      "text/plain": [
       "<Figure size 432x288 with 1 Axes>"
      ]
     },
     "metadata": {},
     "output_type": "display_data"
    }
   ],
   "source": [
    "# Fazendo predições com nossa validação cruzada\n",
    "\n",
    "predictions = cross_val_predict(model, df, y, cv=6)\n",
    "plt.scatter(y, predictions)"
   ]
  },
  {
   "cell_type": "markdown",
   "metadata": {
    "colab_type": "text",
    "id": "dPYdDCE03t-6"
   },
   "source": [
    "Podemos ver que nosso plot é bem diferente do original, de nosso exemplo anterior. São oito vezes mais pontos que o gráfico original pois usamos cv = 8.\n",
    "\n",
    "Por fim, vamos verificar a pontuação R² do modelo. \n",
    "\n",
    "R² é um \"número que indica a proporção da variação na variável dependente que é previsível a partir da (s) variável (s) independente (s)\". \n",
    "\n",
    "Basicamente, quão preciso é o nosso modelo:\n"
   ]
  },
  {
   "cell_type": "code",
   "execution_count": 12,
   "metadata": {
    "colab": {
     "base_uri": "https://localhost:8080/",
     "height": 35
    },
    "colab_type": "code",
    "id": "PoIPN13_cni0",
    "outputId": "a5ddef1c-7f08-4a95-fb58-e2a15ede41c8"
   },
   "outputs": [
    {
     "name": "stdout",
     "output_type": "stream",
     "text": [
      "Acurácia via Predição Cruzada: 0.4908065838640776\n"
     ]
    }
   ],
   "source": [
    "accuracy = metrics.r2_score(y, predictions)\n",
    "print('Acurácia via Predição Cruzada:', accuracy)"
   ]
  },
  {
   "cell_type": "code",
   "execution_count": null,
   "metadata": {},
   "outputs": [],
   "source": []
  },
  {
   "cell_type": "markdown",
   "metadata": {
    "colab_type": "text",
    "id": "K9POWIPR35rf"
   },
   "source": [
    "Para mais informações sobre outros scores/métricas favor consultar:\n",
    "\n",
    "Ref. https://towardsdatascience.com/machine-learning-cheat-sheet-model-evaluation-and-validation-b67565df6075"
   ]
  }
 ],
 "metadata": {
  "colab": {
   "collapsed_sections": [],
   "name": "ExercicioIV_Comparacao_Metricas.ipynb",
   "provenance": []
  },
  "kernelspec": {
   "display_name": "Python 3",
   "language": "python",
   "name": "python3"
  },
  "language_info": {
   "codemirror_mode": {
    "name": "ipython",
    "version": 3
   },
   "file_extension": ".py",
   "mimetype": "text/x-python",
   "name": "python",
   "nbconvert_exporter": "python",
   "pygments_lexer": "ipython3",
   "version": "3.6.8"
  }
 },
 "nbformat": 4,
 "nbformat_minor": 1
}
