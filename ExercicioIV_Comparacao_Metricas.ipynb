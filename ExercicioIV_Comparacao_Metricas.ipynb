{
  "nbformat": 4,
  "nbformat_minor": 0,
  "metadata": {
    "colab": {
      "name": "ExercicioIV_Comparacao_Metricas.ipynb",
      "provenance": [],
      "collapsed_sections": []
    },
    "kernelspec": {
      "name": "python2",
      "display_name": "Python 2"
    }
  },
  "cells": [
    {
      "cell_type": "markdown",
      "metadata": {
        "id": "qGJhelAPu2uO",
        "colab_type": "text"
      },
      "source": [
        "# Demo II / Exercício IV - Métricas para Avaliação de Modelos\n",
        "\n",
        "Base diabetes - \n",
        "\n",
        "Ref. https://scikit-learn.org/stable/modules/generated/sklearn.datasets.load_diabetes.html\n"
      ]
    },
    {
      "cell_type": "markdown",
      "metadata": {
        "id": "E40i-GxmvTQA",
        "colab_type": "text"
      },
      "source": [
        "Nossos imports serão o pandas, o datasets, nosso modelo linear e train_test_split do sckitlearn bem como o matplotlib:"
      ]
    },
    {
      "cell_type": "code",
      "metadata": {
        "id": "mkI2RiVEbWeJ",
        "colab_type": "code",
        "colab": {}
      },
      "source": [
        "import pandas as pd\n",
        "from sklearn import datasets, linear_model\n",
        "from sklearn.model_selection import train_test_split\n",
        "from matplotlib import pyplot as plt"
      ],
      "execution_count": 0,
      "outputs": []
    },
    {
      "cell_type": "markdown",
      "metadata": {
        "id": "27n7WAvWvvni",
        "colab_type": "text"
      },
      "source": [
        "Vamos analisar rapidamente as bibliotecas que importamos:\n",
        "\n",
        "Pandas - para carregar o arquivo de dados como um dataframe do Pandas e analisar os dados;\n",
        "\n",
        "No Sklearn, importamos o módulo de conjuntos de dados (databases) para carregar uma base de amostra e o linear_model para executar uma regressão linear;\n",
        "\n",
        "No Sklearn, com a sub-biblioteca model_selection, importamos então train_test_split para que possamos dividir corretamente nossos dados em conjuntos de treinamento e teste;\n",
        "\n",
        "Do Matplotlib, importamos o pyplot para plotar gráficos dos dados."
      ]
    },
    {
      "cell_type": "code",
      "metadata": {
        "id": "ZR4AqD3qbYWZ",
        "colab_type": "code",
        "colab": {}
      },
      "source": [
        "# Carregando o dataset 'diabetes'\n",
        "\n",
        "# Declarando os nomes de nossas colunas\n",
        "columns = 'age sex bmi map tc ldl hdl tch ltg glu'.split()\n",
        "\n",
        "# Carregando o dataset 'diabetes'do sklearn\n",
        "diabetes = datasets.load_diabetes()\n",
        "\n",
        "# Carregando o dataset como um pandas dataframe\n",
        "df = pd.DataFrame(diabetes.data, columns=columns)\n",
        "\n",
        "#Definindo nossa variável 'alvo' (dependente) como y\n",
        "y = diabetes.target "
      ],
      "execution_count": 0,
      "outputs": []
    },
    {
      "cell_type": "code",
      "metadata": {
        "id": "icbaDJW3bgMj",
        "colab_type": "code",
        "outputId": "dd34bc52-5123-4d82-e012-20884f1def21",
        "colab": {
          "base_uri": "https://localhost:8080/",
          "height": 52
        }
      },
      "source": [
        "# Criando nossos sets de treinamento e teste (Lembre-se, comumente será em uma proporçao de 70/30 ou 80/20)\n",
        "X_train, X_test, y_train, y_test = train_test_split(df, y, test_size=0.2)\n",
        "print X_train.shape, y_train.shape\n",
        "print X_test.shape, y_test.shape"
      ],
      "execution_count": 79,
      "outputs": [
        {
          "output_type": "stream",
          "text": [
            "(353, 10) (353,)\n",
            "(89, 10) (89,)\n"
          ],
          "name": "stdout"
        }
      ]
    },
    {
      "cell_type": "markdown",
      "metadata": {
        "id": "Qb6OeiHQxLsJ",
        "colab_type": "text"
      },
      "source": [
        "Agora, ajustaremos o modelo aos dados de treinamento (model fitting):"
      ]
    },
    {
      "cell_type": "code",
      "metadata": {
        "id": "RjJSF5NXblu2",
        "colab_type": "code",
        "colab": {}
      },
      "source": [
        "# Model fitting\n",
        "lm = linear_model.LinearRegression()\n",
        "model = lm.fit(X_train, y_train)\n",
        "predictions = lm.predict(X_test)"
      ],
      "execution_count": 0,
      "outputs": []
    },
    {
      "cell_type": "markdown",
      "metadata": {
        "id": "Zj2V4riiyo3y",
        "colab_type": "text"
      },
      "source": [
        "Como você pode ver, estamos ajustando o modelo nos dados de treinamento e tentando prever os dados de teste. \n",
        "\n",
        "Vamos ver algumas das previsões:\n"
      ]
    },
    {
      "cell_type": "code",
      "metadata": {
        "id": "s3DkSFRkbp6d",
        "colab_type": "code",
        "outputId": "f33cc19e-0fe6-42e7-a7b7-81991f6b3acf",
        "colab": {
          "base_uri": "https://localhost:8080/",
          "height": 52
        }
      },
      "source": [
        "predictions[0:5]"
      ],
      "execution_count": 81,
      "outputs": [
        {
          "output_type": "execute_result",
          "data": {
            "text/plain": [
              "array([160.33853433, 106.71907886, 204.92043804, 165.74361673,\n",
              "       182.50901457])"
            ]
          },
          "metadata": {
            "tags": []
          },
          "execution_count": 81
        }
      ]
    },
    {
      "cell_type": "markdown",
      "metadata": {
        "id": "h0mtNLRny3Qg",
        "colab_type": "text"
      },
      "source": [
        "Obs: como usamos [0: 5] após as previsões, mostra-se então apenas os cinco primeiros valores previstos. \n",
        "\n",
        "Remover o [0: 5] faria com que fossem imprimidos todos os valores previstos que nosso modelo criou.\n",
        "\n",
        "Agora vamos plotar nosso modelo de regressão linear:"
      ]
    },
    {
      "cell_type": "code",
      "metadata": {
        "id": "iVUOAEu5bul0",
        "colab_type": "code",
        "outputId": "80fc14e3-9d71-4db2-d882-5136ad203b5f",
        "colab": {
          "base_uri": "https://localhost:8080/",
          "height": 301
        }
      },
      "source": [
        "## Modelo de regressao linear\n",
        "plt.scatter(y_test, predictions)\n",
        "plt.xlabel('Valores Verdadeiros')\n",
        "plt.ylabel('Predicoes')"
      ],
      "execution_count": 82,
      "outputs": [
        {
          "output_type": "execute_result",
          "data": {
            "text/plain": [
              "Text(0,0.5,'Predicoes')"
            ]
          },
          "metadata": {
            "tags": []
          },
          "execution_count": 82
        },
        {
          "output_type": "display_data",
          "data": {
            "image/png": "[encoded data removed]",
            "text/plain": [
              "<Figure size 432x288 with 1 Axes>"
            ]
          },
          "metadata": {
            "tags": []
          }
        }
      ]
    },
    {
      "cell_type": "markdown",
      "metadata": {
        "id": "gUKdi517zl55",
        "colab_type": "text"
      },
      "source": [
        "Score de acurácia para nosso modelo:"
      ]
    },
    {
      "cell_type": "code",
      "metadata": {
        "id": "dVTdKdIRb3cL",
        "colab_type": "code",
        "outputId": "c984f705-ffe0-4c23-dbf5-99895ef87435",
        "colab": {
          "base_uri": "https://localhost:8080/",
          "height": 35
        }
      },
      "source": [
        "print 'Score:', model.score(X_test, y_test)"
      ],
      "execution_count": 83,
      "outputs": [
        {
          "output_type": "stream",
          "text": [
            "Score: 0.5257029778571182\n"
          ],
          "name": "stdout"
        }
      ]
    },
    {
      "cell_type": "markdown",
      "metadata": {
        "id": "Qhf4tnhWzwJp",
        "colab_type": "text"
      },
      "source": [
        "## Exercício IV - Validação Cruzada, K-Pastas e Leave One Out"
      ]
    },
    {
      "cell_type": "markdown",
      "metadata": {
        "id": "sUQb0Sz9z5U0",
        "colab_type": "text"
      },
      "source": [
        "[Desafio 4] Como desafio, atentem para a utilização do mesmo exemplo mas dessa vez com a utilização de validação via validação cruzada via K-Pastas (K-Folds Cross Validation)  e, a posteriori, façam o mesmo exemplo dessa vez com validação via Método Leave One Out (como visto em aula).\n",
        "\n",
        "Referências:\n",
        "\n",
        "https://scikit-learn.org/stable/modules/generated/sklearn.model_selection.KFold.html\n",
        "\n",
        "https://scikit-learn.org/stable/modules/generated/sklearn.model_selection.LeaveOneOut.html"
      ]
    },
    {
      "cell_type": "code",
      "metadata": {
        "id": "wUY502_rcB7R",
        "colab_type": "code",
        "colab": {}
      },
      "source": [
        "# Imports necessários\n",
        "\n",
        "from sklearn.model_selection import cross_val_score, cross_val_predict\n",
        "from sklearn import metrics"
      ],
      "execution_count": 0,
      "outputs": []
    },
    {
      "cell_type": "code",
      "metadata": {
        "id": "rP7iujKvcOjY",
        "colab_type": "code",
        "outputId": "2867831a-1005-4cbd-d5d2-0b7638b192f3",
        "colab": {
          "base_uri": "https://localhost:8080/",
          "height": 72
        }
      },
      "source": [
        "# Fazendo nossa validação cruzada em 8 k-pastas\n",
        "\n",
        "scores = cross_val_score(model, df, y, cv=8)\n",
        "print 'Scores com Validação Cruzada:', scores"
      ],
      "execution_count": 85,
      "outputs": [
        {
          "output_type": "stream",
          "text": [
            "Scores com Validação Cruzada: [0.50283713 0.18991026 0.56539865 0.36996563 0.60047052 0.33262653\n",
            " 0.41404403 0.68712879]\n"
          ],
          "name": "stdout"
        }
      ]
    },
    {
      "cell_type": "code",
      "metadata": {
        "id": "ria6Q_0DcjHV",
        "colab_type": "code",
        "outputId": "c65b90a0-caef-4fc5-f8b2-486cb00e2c28",
        "colab": {
          "base_uri": "https://localhost:8080/",
          "height": 287
        }
      },
      "source": [
        "# Fazendo predições com nossa validação cruzada\n",
        "\n",
        "predictions = cross_val_predict(model, df, y, cv=6)\n",
        "plt.scatter(y, predictions)"
      ],
      "execution_count": 86,
      "outputs": [
        {
          "output_type": "execute_result",
          "data": {
            "text/plain": [
              "<matplotlib.collections.PathCollection at 0x7f8e32839490>"
            ]
          },
          "metadata": {
            "tags": []
          },
          "execution_count": 86
        },
        {
          "output_type": "display_data",
          "data": {
            "image/png": "[encoded data removed]",
            "text/plain": [
              "<Figure size 432x288 with 1 Axes>"
            ]
          },
          "metadata": {
            "tags": []
          }
        }
      ]
    },
    {
      "cell_type": "markdown",
      "metadata": {
        "id": "dPYdDCE03t-6",
        "colab_type": "text"
      },
      "source": [
        "Podemos ver que nosso plot é bem diferente do original, de nosso exemplo anterior. São oito vezes mais pontos que o gráfico original pois usamos cv = 8.\n",
        "\n",
        "Por fim, vamos verificar a pontuação R² do modelo. \n",
        "\n",
        "R² é um \"número que indica a proporção da variação na variável dependente que é previsível a partir da (s) variável (s) independente (s)\". \n",
        "\n",
        "Basicamente, quão preciso é o nosso modelo:\n"
      ]
    },
    {
      "cell_type": "code",
      "metadata": {
        "id": "PoIPN13_cni0",
        "colab_type": "code",
        "outputId": "a5ddef1c-7f08-4a95-fb58-e2a15ede41c8",
        "colab": {
          "base_uri": "https://localhost:8080/",
          "height": 35
        }
      },
      "source": [
        "accuracy = metrics.r2_score(y, predictions)\n",
        "print 'Acurácia via Predição Cruzada:', accuracy"
      ],
      "execution_count": 87,
      "outputs": [
        {
          "output_type": "stream",
          "text": [
            "Acurácia via Predição Cruzada: 0.4908065838640776\n"
          ],
          "name": "stdout"
        }
      ]
    },
    {
      "cell_type": "markdown",
      "metadata": {
        "id": "K9POWIPR35rf",
        "colab_type": "text"
      },
      "source": [
        "Para mais informações sobre outros scores/métricas favor consultar:\n",
        "\n",
        "Ref. https://towardsdatascience.com/machine-learning-cheat-sheet-model-evaluation-and-validation-b67565df6075"
      ]
    }
  ]
}